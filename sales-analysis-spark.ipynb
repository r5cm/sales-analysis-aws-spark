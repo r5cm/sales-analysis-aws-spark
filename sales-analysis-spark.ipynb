{
 "cells": [
  {
   "cell_type": "markdown",
   "id": "4a15176b-47ce-4967-8b84-16f1e978c045",
   "metadata": {},
   "source": [
    "# Sales Analysis using PySpark in AWS EMR"
   ]
  },
  {
   "cell_type": "markdown",
   "id": "17a7483b-78d2-474d-a8e7-c53d72735646",
   "metadata": {},
   "source": [
    "This notebook solves PySpark exercises, using both RDDs and Spark DataFrames. Original exercises were taken from [Six Spark Exercises to Rule Them All](https://towardsdatascience.com/six-spark-exercises-to-rule-them-all-242445b24565)."
   ]
  },
  {
   "cell_type": "markdown",
   "id": "d3f4207d-3528-4663-bd84-efc2efce5850",
   "metadata": {},
   "source": [
    "Schema of the dataset can be seen in image below.\n",
    "\n",
    "![dataset](https://miro.medium.com/max/700/1*wA4xJu3LMcm_vR5pFJkLpA.png)\n",
    "\n",
    "The metadata of the table is the following:\n",
    "\n",
    "- Sales\n",
    "    - `order_id`: The order ID\n",
    "    - `product_id`: The single product sold in the order. All orders have exactly one product)\n",
    "    - `seller_id`: The selling employee ID that sold the product\n",
    "    - `num_pieces_sold`: The number of units sold for the specific product in the order\n",
    "    - `bill_raw_text`: A string that represents the raw text of the bill associated with the order\n",
    "    - `date`: The date of the order.\n",
    "- Products\n",
    "    - `product_id`: The product ID\n",
    "    - `product_name`: The product name\n",
    "    - `price`: The product price\n",
    "- Sellers\n",
    "    - `seller_id`: The seller ID\n",
    "    - `seller_name`: The seller name\n",
    "    - `daily_target`: The number of items (regardless of the product type) that the seller needs to hit his/her quota. For example, if the daily target is 100,000, the employee needs to sell 100,000 products he can hit the quota by selling 100,000 units of product_0, but also selling 30,000 units of product_1 and 70,000 units of product_2"
   ]
  },
  {
   "cell_type": "markdown",
   "id": "567e1dea-74fc-44f7-9bf2-ee78684f31da",
   "metadata": {},
   "source": [
    "Import data"
   ]
  },
  {
   "cell_type": "code",
   "execution_count": 15,
   "id": "f8024c81-9987-4b32-99b8-6af97608c423",
   "metadata": {
    "execution": {
     "iopub.execute_input": "2022-07-26T16:18:46.755400Z",
     "iopub.status.busy": "2022-07-26T16:18:46.755170Z",
     "iopub.status.idle": "2022-07-26T16:18:48.028059Z",
     "shell.execute_reply": "2022-07-26T16:18:48.027477Z",
     "shell.execute_reply.started": "2022-07-26T16:18:46.755375Z"
    },
    "tags": []
   },
   "outputs": [
    {
     "data": {
      "application/vnd.jupyter.widget-view+json": {
       "model_id": "ced18e0cf8d24cefbd7a5e14a476291a",
       "version_major": 2,
       "version_minor": 0
      },
      "text/plain": [
       "VBox()"
      ]
     },
     "metadata": {},
     "output_type": "display_data"
    },
    {
     "data": {
      "application/vnd.jupyter.widget-view+json": {
       "model_id": "",
       "version_major": 2,
       "version_minor": 0
      },
      "text/plain": [
       "FloatProgress(value=0.0, bar_style='info', description='Progress:', layout=Layout(height='25px', width='50%'),…"
      ]
     },
     "metadata": {},
     "output_type": "display_data"
    }
   ],
   "source": [
    "data_url = \"s3://emr-studio-dependencies-emrstudiostoragebucket-1adgwjaceu08j/e-93SMUU57YC2V27EKSRI9R72NC/sales-analysis-aws-spark/data/\"\n",
    "sellers = spark.read.parquet(data_url + \"sellers_parquet\")\n",
    "products = spark.read.parquet(data_url + \"products2_parquet\")\n",
    "sales = spark.read.parquet(data_url + \"sales_parquet\")"
   ]
  },
  {
   "cell_type": "markdown",
   "id": "ad0c4fd7-5cc7-43f5-9ae2-4d89452d2078",
   "metadata": {},
   "source": [
    "Register as temporary tables"
   ]
  },
  {
   "cell_type": "code",
   "execution_count": 29,
   "id": "c7163d4b-ef67-430b-93ac-36fbeab6e2ef",
   "metadata": {
    "execution": {
     "iopub.execute_input": "2022-07-26T16:36:27.620008Z",
     "iopub.status.busy": "2022-07-26T16:36:27.619709Z",
     "iopub.status.idle": "2022-07-26T16:36:27.885813Z",
     "shell.execute_reply": "2022-07-26T16:36:27.885227Z",
     "shell.execute_reply.started": "2022-07-26T16:36:27.619967Z"
    },
    "tags": []
   },
   "outputs": [
    {
     "data": {
      "application/vnd.jupyter.widget-view+json": {
       "model_id": "6ed6caab15c040a79a8371a900efa66f",
       "version_major": 2,
       "version_minor": 0
      },
      "text/plain": [
       "VBox()"
      ]
     },
     "metadata": {},
     "output_type": "display_data"
    },
    {
     "data": {
      "application/vnd.jupyter.widget-view+json": {
       "model_id": "",
       "version_major": 2,
       "version_minor": 0
      },
      "text/plain": [
       "FloatProgress(value=0.0, bar_style='info', description='Progress:', layout=Layout(height='25px', width='50%'),…"
      ]
     },
     "metadata": {},
     "output_type": "display_data"
    }
   ],
   "source": [
    "sellers.createOrReplaceTempView(\"sellers\")\n",
    "products.createOrReplaceTempView(\"products\")\n",
    "sales.createOrReplaceTempView(\"sales\")"
   ]
  },
  {
   "cell_type": "markdown",
   "id": "87b777ef-87d3-47a8-bf62-054a446c2b56",
   "metadata": {},
   "source": [
    "## Analysis"
   ]
  },
  {
   "cell_type": "code",
   "execution_count": 24,
   "id": "3d45d871-a2af-481c-88b2-3311a75c4d03",
   "metadata": {
    "execution": {
     "iopub.execute_input": "2022-07-26T16:32:47.221394Z",
     "iopub.status.busy": "2022-07-26T16:32:47.221162Z",
     "iopub.status.idle": "2022-07-26T16:32:47.485001Z",
     "shell.execute_reply": "2022-07-26T16:32:47.482795Z",
     "shell.execute_reply.started": "2022-07-26T16:32:47.221370Z"
    },
    "tags": []
   },
   "outputs": [
    {
     "data": {
      "application/vnd.jupyter.widget-view+json": {
       "model_id": "689f181323e04a3387ee825b2d2e5248",
       "version_major": 2,
       "version_minor": 0
      },
      "text/plain": [
       "VBox()"
      ]
     },
     "metadata": {},
     "output_type": "display_data"
    },
    {
     "data": {
      "application/vnd.jupyter.widget-view+json": {
       "model_id": "",
       "version_major": 2,
       "version_minor": 0
      },
      "text/plain": [
       "FloatProgress(value=0.0, bar_style='info', description='Progress:', layout=Layout(height='25px', width='50%'),…"
      ]
     },
     "metadata": {},
     "output_type": "display_data"
    }
   ],
   "source": [
    "from pyspark.sql.functions import *"
   ]
  },
  {
   "cell_type": "markdown",
   "id": "aa4bb0d9-204a-42e8-bb7a-fa43e4ca0a10",
   "metadata": {},
   "source": [
    "### How many orders, products and sellers are there in the data?"
   ]
  },
  {
   "cell_type": "code",
   "execution_count": 16,
   "id": "64a890e2-8038-4e48-8872-aec92b6f5e15",
   "metadata": {
    "execution": {
     "iopub.execute_input": "2022-07-26T16:18:48.029610Z",
     "iopub.status.busy": "2022-07-26T16:18:48.029331Z",
     "iopub.status.idle": "2022-07-26T16:18:53.358301Z",
     "shell.execute_reply": "2022-07-26T16:18:53.357715Z",
     "shell.execute_reply.started": "2022-07-26T16:18:48.029574Z"
    },
    "tags": []
   },
   "outputs": [
    {
     "data": {
      "application/vnd.jupyter.widget-view+json": {
       "model_id": "7caf50b45cf34ee8be8ce52acab00e4c",
       "version_major": 2,
       "version_minor": 0
      },
      "text/plain": [
       "VBox()"
      ]
     },
     "metadata": {},
     "output_type": "display_data"
    },
    {
     "data": {
      "application/vnd.jupyter.widget-view+json": {
       "model_id": "",
       "version_major": 2,
       "version_minor": 0
      },
      "text/plain": [
       "FloatProgress(value=0.0, bar_style='info', description='Progress:', layout=Layout(height='25px', width='50%'),…"
      ]
     },
     "metadata": {},
     "output_type": "display_data"
    },
    {
     "name": "stdout",
     "output_type": "stream",
     "text": [
      "\n",
      "Products: \t75,000,000\n",
      "Sellers: \t10\n",
      "Orders: \t20,000,040"
     ]
    }
   ],
   "source": [
    "products_num = products.count()\n",
    "sellers_num = sellers.count()\n",
    "sales_num = sales.count()\n",
    "\n",
    "print(f\"\"\"\n",
    "Products: \\t{products_num:,d}\n",
    "Sellers: \\t{sellers_num:,d}\n",
    "Orders: \\t{sales_num:,d}\n",
    "\"\"\")"
   ]
  },
  {
   "cell_type": "markdown",
   "id": "d2108cb7-10d6-4562-a18e-b721bf390ba3",
   "metadata": {},
   "source": [
    "### How many products have been sold at least once?"
   ]
  },
  {
   "cell_type": "code",
   "execution_count": 18,
   "id": "3c7a9b6a-d378-4a37-98fa-8144263d26b6",
   "metadata": {
    "execution": {
     "iopub.execute_input": "2022-07-26T16:21:19.163694Z",
     "iopub.status.busy": "2022-07-26T16:21:19.163455Z",
     "iopub.status.idle": "2022-07-26T16:21:19.224458Z",
     "shell.execute_reply": "2022-07-26T16:21:19.223879Z",
     "shell.execute_reply.started": "2022-07-26T16:21:19.163667Z"
    },
    "tags": []
   },
   "outputs": [
    {
     "data": {
      "application/vnd.jupyter.widget-view+json": {
       "model_id": "4e0aa472aaee4417998ffdb8471cccfc",
       "version_major": 2,
       "version_minor": 0
      },
      "text/plain": [
       "VBox()"
      ]
     },
     "metadata": {},
     "output_type": "display_data"
    },
    {
     "data": {
      "application/vnd.jupyter.widget-view+json": {
       "model_id": "",
       "version_major": 2,
       "version_minor": 0
      },
      "text/plain": [
       "FloatProgress(value=0.0, bar_style='info', description='Progress:', layout=Layout(height='25px', width='50%'),…"
      ]
     },
     "metadata": {},
     "output_type": "display_data"
    },
    {
     "name": "stdout",
     "output_type": "stream",
     "text": [
      "root\n",
      " |-- order_id: string (nullable = true)\n",
      " |-- product_id: string (nullable = true)\n",
      " |-- seller_id: string (nullable = true)\n",
      " |-- date: string (nullable = true)\n",
      " |-- num_pieces_sold: string (nullable = true)\n",
      " |-- bill_raw_text: string (nullable = true)"
     ]
    }
   ],
   "source": [
    "sales.printSchema()"
   ]
  },
  {
   "cell_type": "markdown",
   "id": "df81cab7-d8c1-4133-a1a9-33041963612a",
   "metadata": {},
   "source": [
    "Approach 1"
   ]
  },
  {
   "cell_type": "code",
   "execution_count": 39,
   "id": "59dbc31a-3cb8-4074-b709-c52099e49861",
   "metadata": {
    "execution": {
     "iopub.execute_input": "2022-07-26T16:41:41.179683Z",
     "iopub.status.busy": "2022-07-26T16:41:41.179455Z",
     "iopub.status.idle": "2022-07-26T16:42:06.536368Z",
     "shell.execute_reply": "2022-07-26T16:42:06.535653Z",
     "shell.execute_reply.started": "2022-07-26T16:41:41.179658Z"
    },
    "tags": []
   },
   "outputs": [
    {
     "data": {
      "application/vnd.jupyter.widget-view+json": {
       "model_id": "41a6a362748040d78df7c8ac821400fc",
       "version_major": 2,
       "version_minor": 0
      },
      "text/plain": [
       "VBox()"
      ]
     },
     "metadata": {},
     "output_type": "display_data"
    },
    {
     "data": {
      "application/vnd.jupyter.widget-view+json": {
       "model_id": "",
       "version_major": 2,
       "version_minor": 0
      },
      "text/plain": [
       "FloatProgress(value=0.0, bar_style='info', description='Progress:', layout=Layout(height='25px', width='50%'),…"
      ]
     },
     "metadata": {},
     "output_type": "display_data"
    },
    {
     "name": "stdout",
     "output_type": "stream",
     "text": [
      "Products sold at least once: 993,299"
     ]
    }
   ],
   "source": [
    "unique_products_sold = sales.select('product_id').distinct().count()\n",
    "print(f\"Products sold at least once: {unique_products_sold:,d}\")"
   ]
  },
  {
   "cell_type": "markdown",
   "id": "1680e95e-5527-4a33-ba2d-de97387769a1",
   "metadata": {},
   "source": [
    "Approach 2"
   ]
  },
  {
   "cell_type": "code",
   "execution_count": 26,
   "id": "cb879723-9f06-4b9b-85e9-88f9d14e802b",
   "metadata": {
    "execution": {
     "iopub.execute_input": "2022-07-26T16:33:04.705875Z",
     "iopub.status.busy": "2022-07-26T16:33:04.705649Z",
     "iopub.status.idle": "2022-07-26T16:33:26.046875Z",
     "shell.execute_reply": "2022-07-26T16:33:26.046277Z",
     "shell.execute_reply.started": "2022-07-26T16:33:04.705850Z"
    },
    "tags": []
   },
   "outputs": [
    {
     "data": {
      "application/vnd.jupyter.widget-view+json": {
       "model_id": "295ccc31e2ec40cbb59e824b2b543613",
       "version_major": 2,
       "version_minor": 0
      },
      "text/plain": [
       "VBox()"
      ]
     },
     "metadata": {},
     "output_type": "display_data"
    },
    {
     "data": {
      "application/vnd.jupyter.widget-view+json": {
       "model_id": "",
       "version_major": 2,
       "version_minor": 0
      },
      "text/plain": [
       "FloatProgress(value=0.0, bar_style='info', description='Progress:', layout=Layout(height='25px', width='50%'),…"
      ]
     },
     "metadata": {},
     "output_type": "display_data"
    },
    {
     "name": "stdout",
     "output_type": "stream",
     "text": [
      "+-----------------+\n",
      "|count(product_id)|\n",
      "+-----------------+\n",
      "|           993299|\n",
      "+-----------------+"
     ]
    }
   ],
   "source": [
    "sales.agg(countDistinct('product_id')).show()"
   ]
  },
  {
   "cell_type": "markdown",
   "id": "b2d1cdc8-f86d-48d5-87d7-7364e6ea78e2",
   "metadata": {},
   "source": [
    "Approach 3"
   ]
  },
  {
   "cell_type": "code",
   "execution_count": 41,
   "id": "fd81173b-7151-4aa3-81f1-40d53372c033",
   "metadata": {
    "execution": {
     "iopub.execute_input": "2022-07-26T16:42:34.284092Z",
     "iopub.status.busy": "2022-07-26T16:42:34.283847Z",
     "iopub.status.idle": "2022-07-26T16:42:43.587079Z",
     "shell.execute_reply": "2022-07-26T16:42:43.586413Z",
     "shell.execute_reply.started": "2022-07-26T16:42:34.284064Z"
    },
    "tags": []
   },
   "outputs": [
    {
     "data": {
      "application/vnd.jupyter.widget-view+json": {
       "model_id": "ee2be054136f413a886e039ecb751811",
       "version_major": 2,
       "version_minor": 0
      },
      "text/plain": [
       "VBox()"
      ]
     },
     "metadata": {},
     "output_type": "display_data"
    },
    {
     "data": {
      "application/vnd.jupyter.widget-view+json": {
       "model_id": "",
       "version_major": 2,
       "version_minor": 0
      },
      "text/plain": [
       "FloatProgress(value=0.0, bar_style='info', description='Progress:', layout=Layout(height='25px', width='50%'),…"
      ]
     },
     "metadata": {},
     "output_type": "display_data"
    },
    {
     "name": "stdout",
     "output_type": "stream",
     "text": [
      "+--------------------------+\n",
      "|count(DISTINCT product_id)|\n",
      "+--------------------------+\n",
      "|                    993299|\n",
      "+--------------------------+"
     ]
    }
   ],
   "source": [
    "spark.sql(\"SELECT COUNT(DISTINCT(product_id)) FROM sales\").show()"
   ]
  },
  {
   "cell_type": "markdown",
   "id": "851ea7bc-02c9-4bc7-8f34-72cf3705e2a0",
   "metadata": {},
   "source": [
    "### Which is the product contained in more orders?"
   ]
  },
  {
   "cell_type": "markdown",
   "id": "9e986be1-5ffa-4cee-a60c-ed444e6e6a5a",
   "metadata": {},
   "source": [
    "spark."
   ]
  }
 ],
 "metadata": {
  "kernelspec": {
   "display_name": "PySpark",
   "language": "python",
   "name": "pysparkkernel"
  },
  "language_info": {
   "codemirror_mode": {
    "name": "python",
    "version": 3
   },
   "file_extension": ".py",
   "mimetype": "text/x-python",
   "name": "pyspark",
   "pygments_lexer": "python3"
  }
 },
 "nbformat": 4,
 "nbformat_minor": 5
}
